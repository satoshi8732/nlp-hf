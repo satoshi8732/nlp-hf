{
  "nbformat": 4,
  "nbformat_minor": 0,
  "metadata": {
    "colab": {
      "provenance": [],
      "gpuType": "T4",
      "authorship_tag": "ABX9TyOvC/KVzsroa1Zrv18z4pn4",
      "include_colab_link": true
    },
    "kernelspec": {
      "name": "python3",
      "display_name": "Python 3"
    },
    "language_info": {
      "name": "python"
    },
    "accelerator": "GPU"
  },
  "cells": [
    {
      "cell_type": "markdown",
      "metadata": {
        "id": "view-in-github",
        "colab_type": "text"
      },
      "source": [
        "<a href=\"https://colab.research.google.com/github/satoshi8732/nlp-hf/blob/main/NLP_HF_20200709.ipynb\" target=\"_parent\"><img src=\"https://colab.research.google.com/assets/colab-badge.svg\" alt=\"Open In Colab\"/></a>"
      ]
    },
    {
      "cell_type": "code",
      "source": [
        "!pip install cudf-cu12==24.6.0 --extra-index-url=https://pypi.nvidia.com"
      ],
      "metadata": {
        "id": "yECzhAoGQhi4"
      },
      "execution_count": null,
      "outputs": []
    },
    {
      "cell_type": "code",
      "execution_count": null,
      "metadata": {
        "id": "u_1KGrFC4pFn"
      },
      "outputs": [],
      "source": [
        "#!pip install pyarrow==15.0.0\n",
        "!pip install datasets evaluate transformers[sentencepiece]"
      ]
    },
    {
      "cell_type": "code",
      "source": [
        "!pip freeze > requirements.txt\n"
      ],
      "metadata": {
        "id": "Q2h1Bi0-JeJX"
      },
      "execution_count": null,
      "outputs": []
    },
    {
      "cell_type": "code",
      "source": [
        "pip check"
      ],
      "metadata": {
        "id": "7hjPCxS7JgwG"
      },
      "execution_count": null,
      "outputs": []
    },
    {
      "cell_type": "code",
      "execution_count": null,
      "metadata": {
        "id": "O8BT-1jT4pFy"
      },
      "outputs": [],
      "source": [
        "from transformers import pipeline\n",
        "model_name = \"distilgpt2\"\n",
        "#model_name = \"elyza/Llama-3-ELYZA-JP-8B\"\n",
        "generator = pipeline(\"text-generation\", model=model_name)\n",
        "generator(\"In this course, we will teach you how to\")"
      ]
    },
    {
      "cell_type": "code",
      "source": [
        "generator(\"世界の高い山トップ１０は\", max_length=200, num_return_sequences=1)"
      ],
      "metadata": {
        "id": "3MNnZ1tgL87-"
      },
      "execution_count": null,
      "outputs": []
    },
    {
      "cell_type": "code",
      "source": [],
      "metadata": {
        "id": "-szB-JWbV54B"
      },
      "execution_count": null,
      "outputs": []
    }
  ]
}